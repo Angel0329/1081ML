{
 "cells": [
  {
   "cell_type": "markdown",
   "metadata": {},
   "source": [
    "# Homework3"
   ]
  },
  {
   "cell_type": "markdown",
   "metadata": {},
   "source": [
    "1. 身體質量指數(Body mass index, BMI)是由體重(公斤)除以身高(公尺)的平方，BMI 的分級如下。請撰寫程式由使用者輸入其體重(公斤)及身高(公分)，然後程式印出分級。(分級方式請參閱簡報)"
   ]
  },
  {
   "cell_type": "code",
   "execution_count": 7,
   "metadata": {},
   "outputs": [
    {
     "name": "stdout",
     "output_type": "stream",
     "text": [
      "體重(公斤)：65\n",
      "身高(公尺)：1.65\n",
      "正常\n"
     ]
    }
   ],
   "source": [
    "  x=int(input(\"體重(公斤)：\"))\n",
    "  y=float(input(\"身高(公尺)：\"))\n",
    "  z=float(x/y/y)\n",
    "  if (z<18.5):\n",
    "    print(\"過輕\")\n",
    "  elif (z>=18.5,z<24.0):\n",
    "    print(\"正常\")\n",
    "  elif (z>=24.0,z<27.0):\n",
    "    print(\"過重\")\n",
    "  elif (z>=27.0,z<30.0):\n",
    "    print(\"輕度肥胖\")\n",
    "  elif (z>=30.0,z<35.0):\n",
    "    print(\"中度肥胖\")\n",
    "  elif (z>=35.0):\n",
    "    print(\"重度肥胖\")"
   ]
  },
  {
   "cell_type": "markdown",
   "metadata": {},
   "source": [
    "2. 閏年(Leap year)比平年(365 天)多一天，亦即 366 天。判斷閏年的方式如下(任一條件符合均可)：能被 4 整除但不能被 100 整除者/能被 400 整除者。請撰寫一程式，由使用者輸入西元年，程式判斷是否為閏年。"
   ]
  },
  {
   "cell_type": "code",
   "execution_count": 11,
   "metadata": {},
   "outputs": [
    {
     "name": "stdout",
     "output_type": "stream",
     "text": [
      "西元年:2011\n",
      "非閏年\n"
     ]
    }
   ],
   "source": [
    "x=int(input(\"西元年:\"))\n",
    "if x%4==0 :\n",
    "    if x%100!=0:\n",
    "        print(\"閏年\")\n",
    "        \n",
    "    else:\n",
    "        if x%400==0:\n",
    "            print(\"閏年\")\n",
    "        else:\n",
    "            print(\"非閏年\")\n",
    "else:\n",
    "    print(\"非閏年\")"
   ]
  },
  {
   "cell_type": "raw",
   "metadata": {},
   "source": [
    "3. 請撰寫一個程式，接受使用者輸入日期，格式為 mm/dd/yyyy (month, day, year)，程式判斷該日期是否正確。例如：09/31/2011 錯誤，因為 9 月只有 30 天；02/29/2011 錯誤，因為 2011 並非閏年。"
   ]
  },
  {
   "cell_type": "code",
   "execution_count": 1,
   "metadata": {},
   "outputs": [
    {
     "name": "stdout",
     "output_type": "stream",
     "text": [
      "輸入日期(mm/dd/yyyy):02/29/2011\n",
      "錯誤\n"
     ]
    }
   ],
   "source": [
    "x=input(\"輸入日期(mm/dd/yyyy):\")\n",
    "a,b,c=x.split(\"/\",2)\n",
    "a=int(a)\n",
    "b=int(b)\n",
    "c=int(c)\n",
    "if a>=13 or a<=0:\n",
    "    print(\"錯誤\")\n",
    "if a in {1,3,5,7,8,10,12}:\n",
    "    if b<=0 or b>=32:\n",
    "        print(\"錯誤\")\n",
    "    else:\n",
    "        print(\"正確\")\n",
    "if a in {4,6,9,11}:\n",
    "    if b<=0 or b>=31:\n",
    "        print(\"錯誤\")\n",
    "    else:\n",
    "        print(\"正確\")\n",
    "if a==2:\n",
    "    if b==29:\n",
    "        if c%4==0 :\n",
    "            if c%100!=0:\n",
    "                print(\"正確\")\n",
    "            else:\n",
    "                if c%400==0:\n",
    "                    print(\"正確\")\n",
    "                else:\n",
    "                    print(\"錯誤\")\n",
    "        else:\n",
    "            print(\"錯誤\")\n",
    "    if b<=0 or b>=30:\n",
    "        print(\"錯誤\")"
   ]
  },
  {
   "cell_type": "markdown",
   "metadata": {},
   "source": [
    "4. 如果任何大於 2 的正整數 n 為質數，則任何整數 m，2 ≤ m ≤ √𝑛 ，都無法整除 n。請撰寫一程式，由使用者輸入 n，程式判斷其是否為質數。"
   ]
  },
  {
   "cell_type": "code",
   "execution_count": 5,
   "metadata": {},
   "outputs": [
    {
     "name": "stdout",
     "output_type": "stream",
     "text": [
      "輸入:97\n",
      "質數\n"
     ]
    }
   ],
   "source": [
    "import math\n",
    "n=int(input(\"輸入:\"))\n",
    "a=int(math.sqrt(n))\n",
    "for i in range(2,a+1):\n",
    "    b=n%i\n",
    "    if b==0:\n",
    "        print(\"非質數\")\n",
    "        break\n",
    "    if i==a and b!=0:\n",
    "        print(\"質數\")"
   ]
  },
  {
   "cell_type": "markdown",
   "metadata": {},
   "source": [
    "5. 修改上述程式，列出所有小於或等於 n 的質數。"
   ]
  },
  {
   "cell_type": "code",
   "execution_count": 24,
   "metadata": {},
   "outputs": [
    {
     "name": "stdout",
     "output_type": "stream",
     "text": [
      "輸入:5\n",
      "2 3 4 5 "
     ]
    }
   ],
   "source": [
    "import math\n",
    "n=int(input(\"輸入:\"))\n",
    "for j in range(2,n+1):\n",
    "    a=int(math.sqrt(j))\n",
    "    for i in range(2,a+1):\n",
    "        b=n%i\n",
    "        if b==0:\n",
    "            break\n",
    "        if i==a and b!=0:\n",
    "            continue\n",
    "    print(j,end=\" \")"
   ]
  },
  {
   "cell_type": "code",
   "execution_count": null,
   "metadata": {},
   "outputs": [],
   "source": []
  }
 ],
 "metadata": {
  "kernelspec": {
   "display_name": "Python 3",
   "language": "python",
   "name": "python3"
  },
  "language_info": {
   "codemirror_mode": {
    "name": "ipython",
    "version": 3
   },
   "file_extension": ".py",
   "mimetype": "text/x-python",
   "name": "python",
   "nbconvert_exporter": "python",
   "pygments_lexer": "ipython3",
   "version": "3.7.1"
  }
 },
 "nbformat": 4,
 "nbformat_minor": 2
}
